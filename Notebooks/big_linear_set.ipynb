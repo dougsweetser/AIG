{
 "cells": [
  {
   "cell_type": "markdown",
   "metadata": {},
   "source": [
    "# Big Linear Set of Quaternions"
   ]
  },
  {
   "cell_type": "markdown",
   "metadata": {},
   "source": [
    "Generate a few quaternions using a class found in Q_tool_devo."
   ]
  },
  {
   "cell_type": "code",
   "execution_count": 2,
   "metadata": {},
   "outputs": [],
   "source": [
    "%%capture\n",
    "%matplotlib inline\n",
    "import numpy as np\n",
    "import sympy as sp\n",
    "import matplotlib.pyplot as plt\n",
    "\n",
    "# To get equations the look like, well, equations, use the following.\n",
    "from sympy.interactive import printing\n",
    "printing.init_printing(use_latex=True)\n",
    "from IPython.display import display\n",
    "\n",
    "# Tools for manipulating quaternions.\n",
    "import Q_tool_devo as qtd;"
   ]
  },
  {
   "cell_type": "markdown",
   "metadata": {},
   "source": [
    "The class is call QHArray()."
   ]
  },
  {
   "cell_type": "code",
   "execution_count": 11,
   "metadata": {},
   "outputs": [
    {
     "name": "stdout",
     "output_type": "stream",
     "text": [
      "(0, 0, 0, 0) Q\n",
      "(1, 0.1, 0.2, 0.3) Q+1dQ\n",
      "(2, 0.2, 0.4, 0.6) Q+2dQ\n",
      "(3, 0.30000000000000004, 0.6000000000000001, 0.8999999999999999) Q+3dQ\n",
      "(4, 0.4, 0.8, 1.2) Q+4dQ\n",
      "(5, 0.5, 1.0, 1.5) Q+5dQ\n",
      "(6, 0.6, 1.2, 1.8) Q+6dQ\n",
      "(7, 0.7, 1.4, 2.1) Q+7dQ\n",
      "(8, 0.7999999999999999, 1.5999999999999999, 2.4) Q+8dQ\n",
      "(9, 0.8999999999999999, 1.7999999999999998, 2.6999999999999997) Q+9dQ\n",
      "(10, 0.9999999999999999, 1.9999999999999998, 2.9999999999999996) Q+10dQ\n"
     ]
    }
   ],
   "source": [
    "qha = qtd.QHArray()\n",
    "\n",
    "for q_step in qha.range(q_start=qtd.QH([0, 0, 0, 0]), q_delta=qtd.QH([1, 0.1, 0.2, 0.3]), n_steps=10):\n",
    "    print(q_step)"
   ]
  },
  {
   "cell_type": "markdown",
   "metadata": {},
   "source": [
    "Write out 10k to disk."
   ]
  },
  {
   "cell_type": "code",
   "execution_count": 14,
   "metadata": {},
   "outputs": [],
   "source": [
    "with open('/tmp/10k.data', 'w') as datafile:\n",
    "    for q_step in qha.range(q_start=qtd.QH([0, 0, 0, 0]), q_delta=qtd.QH([1, 0.1, 0.2, 0.3]), n_steps=10000):\n",
    "        datafile.write(\"{}, {}, {}, {}\\n\".format(q_step.t, q_step.x, q_step.y, q_step.z))"
   ]
  },
  {
   "cell_type": "code",
   "execution_count": 16,
   "metadata": {},
   "outputs": [
    {
     "name": "stdout",
     "output_type": "stream",
     "text": [
      "   10001 /tmp/10k.data\n",
      "9997, 999.7000000001588, 1999.4000000003175, 2999.100000000358\n",
      "9998, 999.8000000001588, 1999.6000000003176, 2999.400000000358\n",
      "9999, 999.9000000001588, 1999.8000000003176, 2999.700000000358\n",
      "10000, 1000.0000000001588, 2000.0000000003176, 3000.0000000003583\n"
     ]
    }
   ],
   "source": [
    "! wc -l /tmp/10k.data\n",
    "! tail -4 /tmp/10k.data"
   ]
  },
  {
   "cell_type": "markdown",
   "metadata": {},
   "source": [
    "Bingo, bingo, we can make a large number of quaternions."
   ]
  },
  {
   "cell_type": "code",
   "execution_count": null,
   "metadata": {},
   "outputs": [],
   "source": []
  }
 ],
 "metadata": {
  "kernelspec": {
   "display_name": "Python 3",
   "language": "python",
   "name": "python3"
  },
  "language_info": {
   "codemirror_mode": {
    "name": "ipython",
    "version": 3
   },
   "file_extension": ".py",
   "mimetype": "text/x-python",
   "name": "python",
   "nbconvert_exporter": "python",
   "pygments_lexer": "ipython3",
   "version": "3.5.1"
  }
 },
 "nbformat": 4,
 "nbformat_minor": 2
}
