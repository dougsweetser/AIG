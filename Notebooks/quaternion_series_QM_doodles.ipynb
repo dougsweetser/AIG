{
 "cells": [
  {
   "cell_type": "markdown",
   "metadata": {},
   "source": [
    "# Quaternion Series Quantum Mechanics Doodles"
   ]
  },
  {
   "cell_type": "markdown",
   "metadata": {},
   "source": [
    "This notebook is about initially playing around with quaternion series as a ."
   ]
  },
  {
   "cell_type": "code",
   "execution_count": 1,
   "metadata": {},
   "outputs": [],
   "source": [
    "%%capture\n",
    "%matplotlib inline\n",
    "import numpy as np\n",
    "import sympy as sp\n",
    "import pandas as pd\n",
    "import matplotlib.pyplot as plt\n",
    "\n",
    "# To get equations the look like, well, equations, use the following.\n",
    "from sympy.interactive import printing\n",
    "printing.init_printing(use_latex=True)\n",
    "from IPython.display import display\n",
    "\n",
    "# Tools for manipulating quaternions.\n",
    "import Q_tools as qt;"
   ]
  },
  {
   "cell_type": "markdown",
   "metadata": {},
   "source": [
    "Start with 4 simple states:"
   ]
  },
  {
   "cell_type": "code",
   "execution_count": 2,
   "metadata": {},
   "outputs": [
    {
     "name": "stdout",
     "output_type": "stream",
     "text": [
      "A:\n",
      " n=1: (4, 0, 0, 0) Q\n",
      "n=2: (0, 1, 0, 0) Q\n",
      "B:\n",
      " n=1: (0, 0, 1, 0) Q\n",
      "n=2: (0, 0, 0, 2) Q\n",
      "n=3: (0, 3, 0, 0) Q\n",
      "Op:\n",
      " n=1: (3, 0, 0, 0) Q\n",
      "n=2: (0, 1, 0, 0) Q\n",
      "n=3: (0, 0, 2, 0) Q\n",
      "n=4: (0, 0, 0, 3) Q\n",
      "n=5: (2, 0, 0, 0) Q\n",
      "n=6: (0, 4, 0, 0) Q\n",
      "Op4i:\n",
      " n=1: (0, 4, 0, 0) Q\n"
     ]
    }
   ],
   "source": [
    "A = qt.QHStates([qt.QH([4,0,0,0]), qt.QH([0,1,0,0])])\n",
    "B = qt.QHStates([qt.QH([0,0,1,0]), qt.QH([0,0,0,2]), qt.QH([0,3,0,0])])\n",
    "Op = qt.QHStates([qt.QH([3,0,0,0]), qt.QH([0,1,0,0]), qt.QH([0,0,2,0]), qt.QH([0,0,0,3]), qt.QH([2,0,0,0]), qt.QH([0,4,0,0])])\n",
    "Op4i = qt.QHStates([qt.QH([0,4,0,0])])\n",
    "print(\"A:\\n\", A)\n",
    "print(\"B:\\n\", B)\n",
    "print(\"Op:\\n\", Op)\n",
    "print(\"Op4i:\\n\", Op4i)"
   ]
  },
  {
   "cell_type": "markdown",
   "metadata": {},
   "source": [
    "What I did with these 4 states was to calculate the combinations using good old paper and pencil. So I did:\n",
    "\n",
    "<A|A>\n",
    "(A|A) - my notation for *not* taking the conjugate of the first A\n",
    "<B|B>\n",
    "(B|B)\n",
    "Op|B>=Op|B)\n",
    "<A|Op\n",
    "(A|Op\n",
    "<A|Op|B>\n",
    "(A|Op|B)\n",
    "\n",
    "The doodling took one page of work. The work can then be checked in this notebook using variations of a command run like so:"
   ]
  },
  {
   "cell_type": "code",
   "execution_count": 3,
   "metadata": {},
   "outputs": [
    {
     "name": "stdout",
     "output_type": "stream",
     "text": [
      "states have different dimensions: 2 != 3\n",
      "\n"
     ]
    }
   ],
   "source": [
    "print(qt.QHStates().product(bra=A, ket=B))"
   ]
  },
  {
   "cell_type": "markdown",
   "metadata": {},
   "source": [
    "Good, spots errors."
   ]
  },
  {
   "cell_type": "code",
   "execution_count": 4,
   "metadata": {},
   "outputs": [
    {
     "name": "stdout",
     "output_type": "stream",
     "text": [
      "n=1: (0, 0, 4, -24) Qx0+QxQ+QxQ+QxQ\n",
      "n=2: (3, -12, -4, 0) Qx0+QxQ+QxQ+QxQ\n"
     ]
    }
   ],
   "source": [
    "print(qt.QHStates().product(bra=A, ket=B, operator=Op))"
   ]
  },
  {
   "cell_type": "markdown",
   "metadata": {},
   "source": [
    "I was able to confirm this result was correct. In general though, this stuff is going to get insanely complicated quickly."
   ]
  },
  {
   "cell_type": "markdown",
   "metadata": {},
   "source": [
    "## Bonus Problem"
   ]
  },
  {
   "cell_type": "markdown",
   "metadata": {},
   "source": [
    "See if you can write out an operator that is Hermitian. I have a very specific guess in mind, but have yet to try it."
   ]
  },
  {
   "cell_type": "markdown",
   "metadata": {},
   "source": [
    "We already know that the Euclidean product of any quaternion series generates a quaternion series that only has real numbers like so:"
   ]
  },
  {
   "cell_type": "code",
   "execution_count": 5,
   "metadata": {},
   "outputs": [
    {
     "name": "stdout",
     "output_type": "stream",
     "text": [
      "<A|A>:\n",
      " n=1: (16, 0, 0, 0) QxQ\n",
      "n=2: (-1, 0, 0, 0) QxQ\n",
      "Sum of <A|A>:  (15, 0, 0, 0) Q+QxQ+QxQ\n"
     ]
    }
   ],
   "source": [
    "print(\"<A|A>:\\n\", qt.QHStates().product(bra=A, ket=A))\n",
    "print(\"Sum of <A|A>: \", qt.QHStates().product(bra=A, ket=A).summation())"
   ]
  },
  {
   "cell_type": "markdown",
   "metadata": {},
   "source": [
    "What kind of operator might shift these values while still keeping it all \"real\"? My guess is a \"Hermitian\" series. This has to be square the size of the series squared. What is on the diagonal should not matter. The off the diagonal must have its conjugate in the right place on the other size. Test this guess with a few big quaternions:"
   ]
  },
  {
   "cell_type": "code",
   "execution_count": 6,
   "metadata": {},
   "outputs": [
    {
     "name": "stdout",
     "output_type": "stream",
     "text": [
      "<A|UVW|A>:\n",
      " n=1: (20, 48, 56, 64) Q.*x0+UxQ+VxQ\n",
      "n=2: (6, -19, -3, -1) Q.*x0+VcxQ+WxQ\n",
      "Sum <A|UVW|A>:\n",
      " (26, 29, 53, 63) Q+Q.*x0+UxQ+VxQ+Q.*x0+VcxQ+WxQ\n"
     ]
    }
   ],
   "source": [
    "U = qt.QH([1, 2, 3, 4], qtype=\"U\")\n",
    "V = qt.QH([4, -1, 0, 2], qtype=\"V\")\n",
    "Vc = qt.QH([4, 1, 0, -2], qtype=\"Vc\")\n",
    "W = qt.QH([2, -3, -5, 1], qtype=\"W\")\n",
    "UVW = qt.QHStates([U, V, Vc, W])\n",
    "print(\"<A|UVW|A>:\\n\", qt.QHStates().Euclidean_product(bra=A, ket=A, operator=UVW))\n",
    "print(\"Sum <A|UVW|A>:\\n\", qt.QHStates().Euclidean_product(bra=A, ket=A, operator=UVW).summation())"
   ]
  },
  {
   "cell_type": "markdown",
   "metadata": {},
   "source": [
    "The answer is a \"no\". Try something simpler."
   ]
  },
  {
   "cell_type": "code",
   "execution_count": 7,
   "metadata": {},
   "outputs": [
    {
     "name": "stdout",
     "output_type": "stream",
     "text": [
      "<A|VVc|A>:\n",
      " n=1: (4, 16, 8, 0) Q.*x0+0xQ+VxQ\n",
      "n=2: (4, -16, -8, 0) Q.*x0+VcxQ+0xQ\n",
      "Sum <A|VVc|A>:\n",
      " (8, 0, 0, 0) Q+Q.*x0+0xQ+VxQ+Q.*x0+VcxQ+0xQ\n"
     ]
    }
   ],
   "source": [
    "VVc = qt.QHStates([qt.QH().q_0(), V, Vc, qt.QH().q_0()])\n",
    "print(\"<A|VVc|A>:\\n\", qt.QHStates().Euclidean_product(bra=A, ket=A, operator=VVc))\n",
    "print(\"Sum <A|VVc|A>:\\n\", qt.QHStates().Euclidean_product(bra=A, ket=A, operator=VVc).summation())"
   ]
  },
  {
   "cell_type": "markdown",
   "metadata": {},
   "source": [
    "That was a surprise, seeing the non-negative terms in the 3-vector part of the states. Confirm this happens for the quaternion series B."
   ]
  },
  {
   "cell_type": "code",
   "execution_count": 8,
   "metadata": {},
   "outputs": [
    {
     "name": "stdout",
     "output_type": "stream",
     "text": [
      "<B|UVWc|B>:\n",
      " n=1: (2, -2, 5, 18) Q.*x0+0xQ+UxQ+VxQ\n",
      "n=2: (26, 8, -20, -24) Q.*x0+U.*xQ+0xQ+WxQ\n",
      "n=3: (36, -6, 15, 6) Q.*x0+V.*xQ+W.*xQ+0xQ\n",
      "Sum <A|UVW|A>:\n",
      " (64, 0, 0, 0) Q+Q.*x0+0xQ+UxQ+VxQ+Q.*x0+U.*xQ+0xQ+WxQ+Q.*x0+V.*xQ+W.*xQ+0xQ\n"
     ]
    }
   ],
   "source": [
    "q0 = qt.QH().q_0()\n",
    "q1 = qt.QH().q_1()\n",
    "UVWc = qt.QHStates([q0, U, V, U.conj(), q0, W, V.conj(), W.conj(), q0])\n",
    "print(\"<B|UVWc|B>:\\n\", qt.QHStates().Euclidean_product(bra=B, ket=B, operator=UVWc))\n",
    "print(\"Sum <A|UVW|A>:\\n\", qt.QHStates().Euclidean_product(bra=B, ket=B, operator=UVWc).summation())"
   ]
  },
  {
   "cell_type": "markdown",
   "metadata": {},
   "source": [
    "Bingo, bingo! The \"uneven\" cancellations are kind of impressive. Can one put non-zero values along the diagonal?"
   ]
  },
  {
   "cell_type": "code",
   "execution_count": 9,
   "metadata": {},
   "outputs": [
    {
     "name": "stdout",
     "output_type": "stream",
     "text": [
      "<B|UVWc|B>:\n",
      " n=1: (-1, -2, 5, 18) Q.*x0+QxQ+UxQ+VxQ\n",
      "n=2: (30, 8, -20, -24) Q.*x0+U.*xQ+1xQ+WxQ\n",
      "n=3: (54, -6, 15, 6) Q.*x0+V.*xQ+W.*xQ+QxQ\n",
      "Sum <A|UVW|A>:\n",
      " (83, 0, 0, 0) Q+Q.*x0+QxQ+UxQ+VxQ+Q.*x0+U.*xQ+1xQ+WxQ+Q.*x0+V.*xQ+W.*xQ+QxQ\n"
     ]
    }
   ],
   "source": [
    "q3 = qt.QH([-3,0,0,0])\n",
    "q2 = qt.QH([2,0,0,0])\n",
    "UVWc = qt.QHStates([q3, U, V, U.conj(), q1, W, V.conj(), W.conj(), q2])\n",
    "print(\"<B|UVWc|B>:\\n\", qt.QHStates().Euclidean_product(bra=B, ket=B, operator=UVWc))\n",
    "print(\"Sum <A|UVW|A>:\\n\", qt.QHStates().Euclidean_product(bra=B, ket=B, operator=UVWc).summation())"
   ]
  },
  {
   "cell_type": "markdown",
   "metadata": {},
   "source": [
    "So one can put whatever real valued quaternions down the diagonal."
   ]
  }
 ],
 "metadata": {
  "kernelspec": {
   "display_name": "Python 3",
   "language": "python",
   "name": "python3"
  },
  "language_info": {
   "codemirror_mode": {
    "name": "ipython",
    "version": 3
   },
   "file_extension": ".py",
   "mimetype": "text/x-python",
   "name": "python",
   "nbconvert_exporter": "python",
   "pygments_lexer": "ipython3",
   "version": "3.5.1"
  }
 },
 "nbformat": 4,
 "nbformat_minor": 2
}
